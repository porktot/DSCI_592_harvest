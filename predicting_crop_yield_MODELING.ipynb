{
 "cells": [
  {
   "cell_type": "markdown",
   "metadata": {},
   "source": [
    "# DCSI 592: Capstone II\n",
    "\n",
    "## Predicting Crop Yield in Colorado: Modeling\n",
    "\n",
    "Dataset: https://catalog.data.gov/dataset/usda-ars-colorado-maize-water-productivity-dataset-2012-2013-f9f68\n"
   ]
  },
  {
   "cell_type": "markdown",
   "metadata": {},
   "source": [
    "## 0.0 Imports, Helper Functions & Loading Data"
   ]
  },
  {
   "cell_type": "code",
   "execution_count": 1,
   "metadata": {},
   "outputs": [],
   "source": [
    "\n",
    "import pandas as pd\n",
    "import numpy as np\n",
    "import seaborn as sns\n",
    "import matplotlib.pyplot as plt\n",
    "from matplotlib.colors import ListedColormap, Normalize\n",
    "from scipy.stats.mstats import winsorize\n",
    "\n",
    "from sklearn.model_selection import train_test_split, cross_val_score, KFold\n",
    "from sklearn.linear_model import LinearRegression\n",
    "from sklearn.metrics import mean_squared_error, r2_score\n",
    "\n",
    "from sklearn.model_selection import cross_val_score"
   ]
  },
  {
   "cell_type": "code",
   "execution_count": 1,
   "metadata": {},
   "outputs": [],
   "source": [
    "def display_scores(scores):\n",
    "    print(f\"\\tScores: {scores}\")\n",
    "    print(f\"\\tMean: {scores.mean():.2f}\")\n",
    "    print(f\"\\tStd Deviation: {scores.std():.2f}\")\n",
    "    return\n",
    "\n",
    "# apply log transformation and add a constant to deal with 0s\n",
    "def apply_log_transform_with_constant(dataframe, constant=1e-5):\n",
    "    # Copy the input dataframe to avoid modifying the original data\n",
    "    transformed_df = dataframe.copy()\n",
    "        # Apply logarithmic transformation to numeric columns\n",
    "    for col in transformed_df.select_dtypes(include=['number']).columns:\n",
    "        # Add a small constant value to avoid zero values\n",
    "        transformed_df[col] = np.log(transformed_df[col] + constant)\n",
    "    return transformed_df\n",
    "\n",
    "def display_model_results(train_mse, train_r2, test_mse, test_r2, cross_val_rmse, model_description):\n",
    "    print(f'{model_description.upper()}')\n",
    "    print(f'Training MSE: {train_mse:.2f}')\n",
    "    print(f'Training R2: {train_r2:.2f}')\n",
    "    print(f'Test MSE: {test_mse:.2f}')\n",
    "    print(f'Test R2: {test_r2:.2f}')\n",
    "    print(f'Cross-Validation RMSE:')\n",
    "    display_scores(cross_val_rmse)\n",
    "    return"
   ]
  },
  {
   "cell_type": "code",
   "execution_count": 3,
   "metadata": {},
   "outputs": [
    {
     "name": "stdout",
     "output_type": "stream",
     "text": [
      "<class 'pandas.core.frame.DataFrame'>\n",
      "RangeIndex: 94 entries, 0 to 93\n",
      "Data columns (total 6 columns):\n",
      " #   Column                       Non-Null Count  Dtype  \n",
      "---  ------                       --------------  -----  \n",
      " 0   Grain Yield_15.5%mc_Kg ha-1  94 non-null     float64\n",
      " 1   Max_LAI                      94 non-null     float64\n",
      " 2   Annual_ETc mm                94 non-null     float64\n",
      " 3   Trt_code                     94 non-null     int64  \n",
      " 4   Plant density plants ha-1    94 non-null     float64\n",
      " 5   HI                           94 non-null     float64\n",
      "dtypes: float64(5), int64(1)\n",
      "memory usage: 4.5 KB\n"
     ]
    }
   ],
   "source": [
    "FILE = 'cleaned_annual_data.csv'\n",
    "maize_data = pd.read_csv(FILE)\n",
    "maize_data.info()"
   ]
  },
  {
   "cell_type": "markdown",
   "metadata": {},
   "source": [
    "For our model, we will predict `grain yield` using: \n",
    "- irrigation `treatment code` (numerical value that represents the watering deprivation treatment used: the lower value treatments (1, 2, 3...) received more water, while higher values (9, 10, 11...) got less during both periods.Table in appendix)\n",
    "- `plant density`\n",
    "- `max leaf area index`\n",
    "\n",
    "Concept: if a farmer was facing a drought (limited water supply), could they use a model to optimize their watering and still achieve grain yield goals?"
   ]
  },
  {
   "cell_type": "code",
   "execution_count": 4,
   "metadata": {},
   "outputs": [],
   "source": [
    "features = [\"Grain Yield_15.5%mc_Kg ha-1\", \"Trt_code\",\"Plant density plants ha-1\", \"Max_LAI\"]\n",
    "maize_model_data = maize_data[features]"
   ]
  },
  {
   "cell_type": "markdown",
   "metadata": {},
   "source": [
    "### 0.1 Log Transformation"
   ]
  },
  {
   "cell_type": "code",
   "execution_count": 5,
   "metadata": {},
   "outputs": [
    {
     "name": "stdout",
     "output_type": "stream",
     "text": [
      "<class 'pandas.core.frame.DataFrame'>\n",
      "RangeIndex: 94 entries, 0 to 93\n",
      "Data columns (total 6 columns):\n",
      " #   Column                       Non-Null Count  Dtype  \n",
      "---  ------                       --------------  -----  \n",
      " 0   Grain Yield_15.5%mc_Kg ha-1  94 non-null     float64\n",
      " 1   Max_LAI                      94 non-null     float64\n",
      " 2   Annual_ETc mm                94 non-null     float64\n",
      " 3   Trt_code                     94 non-null     float64\n",
      " 4   Plant density plants ha-1    94 non-null     float64\n",
      " 5   HI                           94 non-null     float64\n",
      "dtypes: float64(6)\n",
      "memory usage: 4.5 KB\n"
     ]
    }
   ],
   "source": [
    "log_transformed_model_data = apply_log_transform_with_constant(maize_data)\n",
    "log_transformed_model_data.info()"
   ]
  },
  {
   "cell_type": "markdown",
   "metadata": {},
   "source": [
    "### 0.2 Winsorization Transformation\n"
   ]
  },
  {
   "cell_type": "code",
   "execution_count": 6,
   "metadata": {},
   "outputs": [
    {
     "name": "stdout",
     "output_type": "stream",
     "text": [
      "<class 'pandas.core.frame.DataFrame'>\n",
      "RangeIndex: 94 entries, 0 to 93\n",
      "Data columns (total 4 columns):\n",
      " #   Column                       Non-Null Count  Dtype  \n",
      "---  ------                       --------------  -----  \n",
      " 0   Grain Yield_15.5%mc_Kg ha-1  94 non-null     float64\n",
      " 1   Trt_code                     94 non-null     int64  \n",
      " 2   Plant density plants ha-1    94 non-null     float64\n",
      " 3   Max_LAI                      94 non-null     float64\n",
      "dtypes: float64(3), int64(1)\n",
      "memory usage: 3.1 KB\n"
     ]
    }
   ],
   "source": [
    "# Winsorize the data\n",
    "limits = [0.05, 0.05]\n",
    "winsorized_model_data = maize_model_data.apply(lambda x: winsorize(x, limits=limits) if x.dtype != 'O' else x)\n",
    "winsorized_model_data.info()"
   ]
  },
  {
   "cell_type": "markdown",
   "metadata": {},
   "source": [
    "# Modeling\n",
    "## 1.0 Linear Regression: Baseline (no transformation)"
   ]
  },
  {
   "cell_type": "code",
   "execution_count": 7,
   "metadata": {},
   "outputs": [
    {
     "name": "stdout",
     "output_type": "stream",
     "text": [
      "LINEAR REGRESSION (BASELINE)\n",
      "Training MSE: 2184176.26\n",
      "Training R2: 0.39\n",
      "Test MSE: 3737592.99\n",
      "Test R2: 0.39\n",
      "Cross-Validation RMSE:\n",
      "\tScores: [1069.05034353 1488.4381728  1851.74256705 1643.49770468 1684.88701516]\n",
      "\tMean: 1547.52\n",
      "\tStd Deviation: 265.73\n"
     ]
    }
   ],
   "source": [
    "# define features as `X` and target variable (Grain Yield) as `y`   \n",
    "X = maize_model_data.drop(columns=['Grain Yield_15.5%mc_Kg ha-1'])\n",
    "y = maize_model_data['Grain Yield_15.5%mc_Kg ha-1']\n",
    "\n",
    "# split data into training and testing sets\n",
    "X_train, X_test, y_train, y_test = train_test_split(X, y, test_size=0.2, random_state=42)\n",
    "\n",
    "# initialize the model \n",
    "linear_regression_model = LinearRegression()\n",
    "\n",
    "# train the model\n",
    "linear_regression_model.fit(X_train, y_train)\n",
    "\n",
    "# Calculate training MSE and R2\n",
    "y_train_pred = linear_regression_model.predict(X_train)\n",
    "train_mse = mean_squared_error(y_train, y_train_pred)\n",
    "train_r2 = r2_score(y_train, y_train_pred)\n",
    "\n",
    "# Calculate test MSE and R2\n",
    "y_test_pred = linear_regression_model.predict(X_test)\n",
    "test_mse = mean_squared_error(y_test, y_test_pred)\n",
    "test_r2 = r2_score(y_test, y_test_pred)\n",
    "\n",
    "# perform cross-validation on the training set\n",
    "cv = KFold(n_splits=5, random_state=42, shuffle=True)\n",
    "cross_val_mse = cross_val_score(linear_regression_model, X_train, y_train, cv=cv, scoring='neg_mean_squared_error')\n",
    "cross_val_rmse = np.sqrt(-cross_val_mse)\n",
    "\n",
    "# evaluate model\n",
    "display_model_results(train_mse, train_r2, test_mse, test_r2, cross_val_rmse, model_description=\"linear regression (baseline)\")"
   ]
  },
  {
   "cell_type": "code",
   "execution_count": 8,
   "metadata": {},
   "outputs": [
    {
     "data": {
      "image/png": "[encoded data removed]",
      "text/plain": [
       "<Figure size 1000x600 with 1 Axes>"
      ]
     },
     "metadata": {},
     "output_type": "display_data"
    }
   ],
   "source": [
    "# Plot actual vs predicted values\n",
    "plt.figure(figsize=(10, 6))\n",
    "plt.scatter(y_test, y_test_pred, alpha=0.7, edgecolors=(0, 0, 1))\n",
    "plt.plot([y_test.min(), y_test.max()], [y_test.min(), y_test.max()], 'r--', lw=2)\n",
    "plt.xlabel('Actual Grain Yield')\n",
    "plt.ylabel('Predicted Grain Yield')\n",
    "plt.title('Actual vs Predicted Grain Yield')\n",
    "plt.show()"
   ]
  },
  {
   "cell_type": "markdown",
   "metadata": {},
   "source": [
    "### Looking at model coefficients -- Ordered from most to least significant impact on grain yield: Treatment Code, Max Leaf Area Index, and Plant Density "
   ]
  },
  {
   "cell_type": "markdown",
   "metadata": {},
   "source": [
    "The coefficients for this model tell us:\n",
    "- `Trt_code`: Strong negative relationship with grain yield. For every 1 unit increase in `Treatment_code` (which reduces water usage), the grain yield is expected to decrease by ~338.83 Kg / h1 units. (~746.99 lbs)\n",
    "- `Plant density plants ha-1`: Very weak positive relationship with grain yield. The impact of plant density is minimal. Every 1 unit increase in this coef, grain yield should increase by 0.03 Kg / h1 units (~.07 lbs) \n",
    "- `Max_LAI`: Strong positive relationship with grain yield. This feature has a significant impact on grain yield. For every 1 unit increase in max leaf area, grain yield should increase by 527.54 Kg / h1 units (~1,163.03)\n",
    "\n",
    "_Note: 1 hectare = 2.47 acres, or 107,639 square feet_"
   ]
  },
  {
   "cell_type": "code",
   "execution_count": 9,
   "metadata": {},
   "outputs": [
    {
     "data": {
      "text/html": [
       "<div>\n",
       "<style scoped>\n",
       "    .dataframe tbody tr th:only-of-type {\n",
       "        vertical-align: middle;\n",
       "    }\n",
       "\n",
       "    .dataframe tbody tr th {\n",
       "        vertical-align: top;\n",
       "    }\n",
       "\n",
       "    .dataframe thead th {\n",
       "        text-align: right;\n",
       "    }\n",
       "</style>\n",
       "<table border=\"1\" class=\"dataframe\">\n",
       "  <thead>\n",
       "    <tr style=\"text-align: right;\">\n",
       "      <th></th>\n",
       "      <th>Coefficients</th>\n",
       "    </tr>\n",
       "  </thead>\n",
       "  <tbody>\n",
       "    <tr>\n",
       "      <th>Trt_code</th>\n",
       "      <td>-338.829080</td>\n",
       "    </tr>\n",
       "    <tr>\n",
       "      <th>Plant density plants ha-1</th>\n",
       "      <td>0.036397</td>\n",
       "    </tr>\n",
       "    <tr>\n",
       "      <th>Max_LAI</th>\n",
       "      <td>527.542289</td>\n",
       "    </tr>\n",
       "  </tbody>\n",
       "</table>\n",
       "</div>"
      ],
      "text/plain": [
       "                           Coefficients\n",
       "Trt_code                    -338.829080\n",
       "Plant density plants ha-1      0.036397\n",
       "Max_LAI                      527.542289"
      ]
     },
     "execution_count": 9,
     "metadata": {},
     "output_type": "execute_result"
    }
   ],
   "source": [
    "# Get feature names\n",
    "feature_names = X.columns\n",
    "\n",
    "# Extract and display the coefficients\n",
    "coefs = pd.DataFrame(\n",
    "linear_regression_model.coef_,\n",
    "    columns=[\"Coefficients\"],\n",
    "    index=feature_names\n",
    ")\n",
    "\n",
    "coefs"
   ]
  },
  {
   "cell_type": "markdown",
   "metadata": {},
   "source": [
    "## 1.1 Linear Regression with log transformation"
   ]
  },
  {
   "cell_type": "code",
   "execution_count": 10,
   "metadata": {},
   "outputs": [
    {
     "name": "stdout",
     "output_type": "stream",
     "text": [
      "LINEAR REGRESSION (LOG TRANSFORMED)\n",
      "Training MSE: 0.01\n",
      "Training R2: 0.44\n",
      "Test MSE: 0.02\n",
      "Test R2: 0.46\n",
      "Cross-Validation RMSE:\n",
      "\tScores: [0.14255537 0.11757067 0.12756701 0.13771425 0.11715205]\n",
      "\tMean: 0.13\n",
      "\tStd Deviation: 0.01\n"
     ]
    }
   ],
   "source": [
    "# define features as `X` and target variable (Grain Yield) as `y`   \n",
    "X = log_transformed_model_data.drop(columns=['Grain Yield_15.5%mc_Kg ha-1'])\n",
    "y = log_transformed_model_data['Grain Yield_15.5%mc_Kg ha-1']\n",
    "\n",
    "# split data into training and testing sets\n",
    "X_train, X_test, y_train, y_test = train_test_split(X, y, test_size=0.2, random_state=42)\n",
    "\n",
    "# initialize the model \n",
    "linear_regression_model = LinearRegression()\n",
    "\n",
    "# train the model\n",
    "linear_regression_model.fit(X_train, y_train)\n",
    "\n",
    "# Calculate training MSE and R2\n",
    "y_train_pred = linear_regression_model.predict(X_train)\n",
    "train_mse = mean_squared_error(y_train, y_train_pred)\n",
    "train_r2 = r2_score(y_train, y_train_pred)\n",
    "\n",
    "# Calculate test MSE and R2\n",
    "y_test_pred = linear_regression_model.predict(X_test)\n",
    "test_mse = mean_squared_error(y_test, y_test_pred)\n",
    "test_r2 = r2_score(y_test, y_test_pred)\n",
    "\n",
    "# perform cross-validation on the training set\n",
    "cv = KFold(n_splits=5, random_state=42, shuffle=True)\n",
    "cross_val_mse = cross_val_score(linear_regression_model, X_train, y_train, cv=cv, scoring='neg_mean_squared_error')\n",
    "cross_val_rmse = np.sqrt(-cross_val_mse)\n",
    "\n",
    "# evaluate model\n",
    "display_model_results(train_mse, train_r2, test_mse, test_r2, cross_val_rmse, model_description=\"linear regression (log transformed)\")\n",
    "\n",
    "# # Plotting\n",
    "# fig, ax = plt.subplots(figsize=(15, 6))\n",
    "# plot_cv_indices(cv, X_train, y_train, ax, n_splits=5, rmse_scores=cross_val_rmse)\n",
    "# plt.show()"
   ]
  },
  {
   "cell_type": "code",
   "execution_count": 11,
   "metadata": {},
   "outputs": [
    {
     "data": {
      "image/png": "[encoded data removed]",
      "text/plain": [
       "<Figure size 1000x600 with 1 Axes>"
      ]
     },
     "metadata": {},
     "output_type": "display_data"
    }
   ],
   "source": [
    "# Plot actual vs predicted values\n",
    "plt.figure(figsize=(10, 6))\n",
    "plt.scatter(y_test, y_test_pred, alpha=0.7, edgecolors=(0, 0, 1))\n",
    "plt.plot([y_test.min(), y_test.max()], [y_test.min(), y_test.max()], 'r--', lw=2)\n",
    "plt.xlabel('Actual Grain Yield')\n",
    "plt.ylabel('Predicted Grain Yield')\n",
    "plt.title('Actual vs Predicted Grain Yield (Log Transformed Dataset)')\n",
    "plt.show()"
   ]
  },
  {
   "cell_type": "markdown",
   "metadata": {},
   "source": [
    "### 1.2 Winsorized data - linear regression"
   ]
  },
  {
   "cell_type": "code",
   "execution_count": 12,
   "metadata": {},
   "outputs": [
    {
     "name": "stdout",
     "output_type": "stream",
     "text": [
      "LINEAR REGRESSION (WINSORIZED)\n",
      "Training MSE: 1961667.32\n",
      "Training R2: 0.39\n",
      "Test MSE: 3380966.05\n",
      "Test R2: 0.36\n",
      "Cross-Validation RMSE:\n",
      "\tScores: [1075.56338576 1498.93476024 1771.24051162 1418.40091686 1585.47306447]\n",
      "\tMean: 1469.92\n",
      "\tStd Deviation: 229.42\n"
     ]
    }
   ],
   "source": [
    "# define features as `X` and target variable (Grain Yield) as `y`   \n",
    "X = winsorized_model_data.drop(columns=['Grain Yield_15.5%mc_Kg ha-1'])\n",
    "y = winsorized_model_data['Grain Yield_15.5%mc_Kg ha-1']\n",
    "\n",
    "# split data into training and testing sets\n",
    "X_train, X_test, y_train, y_test = train_test_split(X, y, test_size=0.2, random_state=42)\n",
    "\n",
    "# initialize the model \n",
    "linear_regression_model = LinearRegression()\n",
    "\n",
    "# train the model\n",
    "linear_regression_model.fit(X_train, y_train)\n",
    "\n",
    "# Calculate training MSE and R2\n",
    "y_train_pred = linear_regression_model.predict(X_train)\n",
    "train_mse = mean_squared_error(y_train, y_train_pred)\n",
    "train_r2 = r2_score(y_train, y_train_pred)\n",
    "\n",
    "# Calculate test MSE and R2\n",
    "y_test_pred = linear_regression_model.predict(X_test)\n",
    "test_mse = mean_squared_error(y_test, y_test_pred)\n",
    "test_r2 = r2_score(y_test, y_test_pred)\n",
    "\n",
    "# perform cross-validation on the training set\n",
    "cv = KFold(n_splits=5, random_state=42, shuffle=True)\n",
    "cross_val_mse = cross_val_score(linear_regression_model, X_train, y_train, cv=cv, scoring='neg_mean_squared_error')\n",
    "cross_val_rmse = np.sqrt(-cross_val_mse)\n",
    "\n",
    "# evaluate model\n",
    "display_model_results(train_mse, train_r2, test_mse, test_r2, cross_val_rmse, model_description=\"linear regression (winsorized)\")"
   ]
  },
  {
   "cell_type": "code",
   "execution_count": 13,
   "metadata": {},
   "outputs": [
    {
     "data": {
      "image/png": "[encoded data removed]",
      "text/plain": [
       "<Figure size 1000x600 with 1 Axes>"
      ]
     },
     "metadata": {},
     "output_type": "display_data"
    }
   ],
   "source": [
    "# Plot actual vs predicted values\n",
    "plt.figure(figsize=(10, 6))\n",
    "plt.scatter(y_test, y_test_pred, alpha=0.7, edgecolors=(0, 0, 1))\n",
    "plt.plot([y_test.min(), y_test.max()], [y_test.min(), y_test.max()], 'r--', lw=2)\n",
    "plt.xlabel('Actual Grain Yield')\n",
    "plt.ylabel('Predicted Grain Yield')\n",
    "plt.title('Actual vs Predicted Grain Yield (Winsorized Dataset)')\n",
    "plt.show()"
   ]
  },
  {
   "cell_type": "markdown",
   "metadata": {},
   "source": [
    "# 2.0 Ridge Regression \n",
    "<br>No transformations to data\n",
    "\n",
    "\n"
   ]
  },
  {
   "cell_type": "code",
   "execution_count": 14,
   "metadata": {},
   "outputs": [
    {
     "name": "stdout",
     "output_type": "stream",
     "text": [
      "RIDGE REGRESSION\n",
      "Training MSE: 2184481.33\n",
      "Training R2: 0.39\n",
      "Test MSE: 3745429.18\n",
      "Test R2: 0.39\n",
      "Cross-Validation RMSE:\n",
      "\tScores: [1071.58524771 1490.46252048 1843.61387529 1642.73413043 1686.27146901]\n",
      "\tMean: 1546.93\n",
      "\tStd Deviation: 262.97\n"
     ]
    }
   ],
   "source": [
    "from sklearn.linear_model import Ridge\n",
    "\n",
    "# define features as `X` and target variable (Grain Yield) as `y`   \n",
    "X = maize_model_data.drop(columns=['Grain Yield_15.5%mc_Kg ha-1'])\n",
    "y = maize_model_data['Grain Yield_15.5%mc_Kg ha-1']\n",
    "\n",
    "# split data into training and testing sets\n",
    "X_train, X_test, y_train, y_test = train_test_split(X, y, test_size=0.2, random_state=42)\n",
    "\n",
    "# initialize the model\n",
    "ridge_regression_model = Ridge()\n",
    "\n",
    "# Train the model\n",
    "ridge_regression_model.fit(X_train, y_train)\n",
    "\n",
    "# Calculate training MSE and R2\n",
    "y_train_pred = ridge_regression_model.predict(X_train)\n",
    "train_mse = mean_squared_error(y_train, y_train_pred)\n",
    "train_r2 = r2_score(y_train, y_train_pred)\n",
    "\n",
    "# Calculate test MSE and R2\n",
    "y_test_pred = ridge_regression_model.predict(X_test)\n",
    "test_mse = mean_squared_error(y_test, y_test_pred)\n",
    "test_r2 = r2_score(y_test, y_test_pred)\n",
    "\n",
    "# Perform cross-validation on the training set\n",
    "cross_val_mse = cross_val_score(ridge_regression_model, X_train, y_train, cv=cv, scoring='neg_mean_squared_error')\n",
    "cross_val_rmse = np.sqrt(-cross_val_mse)\n",
    "\n",
    "# Display model results\n",
    "display_model_results(train_mse, train_r2, test_mse, test_r2, cross_val_rmse, model_description=\"ridge regression\")"
   ]
  },
  {
   "cell_type": "markdown",
   "metadata": {},
   "source": [
    "# 3.0 Random Forest \n",
    "No transformations to data"
   ]
  },
  {
   "cell_type": "code",
   "execution_count": 15,
   "metadata": {},
   "outputs": [
    {
     "name": "stdout",
     "output_type": "stream",
     "text": [
      "RANDOM FOREST REGRESSION\n",
      "Training MSE: 337910.88\n",
      "Training R2: 0.91\n",
      "Test MSE: 2997232.27\n",
      "Test R2: 0.51\n",
      "Cross-Validation RMSE:\n",
      "\tScores: [1375.60015109 1403.80854384 1755.36718191 1447.81573266 1555.08981815]\n",
      "\tMean: 1507.54\n",
      "\tStd Deviation: 138.14\n"
     ]
    }
   ],
   "source": [
    "from sklearn.ensemble import RandomForestRegressor\n",
    "\n",
    "# define features as `X` and target variable (Grain Yield) as `y`   \n",
    "X = maize_model_data.drop(columns=['Grain Yield_15.5%mc_Kg ha-1'])\n",
    "y = maize_model_data['Grain Yield_15.5%mc_Kg ha-1']\n",
    "\n",
    "# split data into training and testing sets\n",
    "X_train, X_test, y_train, y_test = train_test_split(X, y, test_size=0.2, random_state=42)\n",
    "\n",
    "# Initialize the model\n",
    "random_forest_model = RandomForestRegressor(random_state=42)\n",
    "\n",
    "# Train the model\n",
    "random_forest_model.fit(X_train, y_train)\n",
    "\n",
    "# Calculate training MSE and R2\n",
    "y_train_pred = random_forest_model.predict(X_train)\n",
    "train_mse = mean_squared_error(y_train, y_train_pred)\n",
    "train_r2 = r2_score(y_train, y_train_pred)\n",
    "\n",
    "# Calculate test MSE and R2\n",
    "y_test_pred = random_forest_model.predict(X_test)\n",
    "test_mse = mean_squared_error(y_test, y_test_pred)\n",
    "test_r2 = r2_score(y_test, y_test_pred)\n",
    "\n",
    "# Perform cross-validation on the training set\n",
    "cross_val_mse = cross_val_score(random_forest_model, X_train, y_train, cv=cv, scoring='neg_mean_squared_error')\n",
    "cross_val_rmse = np.sqrt(-cross_val_mse)\n",
    "\n",
    "# Display model results\n",
    "display_model_results(train_mse, train_r2, test_mse, test_r2, cross_val_rmse, model_description=\"random forest regression\")\n"
   ]
  },
  {
   "cell_type": "markdown",
   "metadata": {},
   "source": [
    "### Feature importance\n",
    "Treatment code (watering) is most important while plant density is the least important"
   ]
  },
  {
   "cell_type": "code",
   "execution_count": 16,
   "metadata": {},
   "outputs": [
    {
     "data": {
      "text/html": [
       "<div>\n",
       "<style scoped>\n",
       "    .dataframe tbody tr th:only-of-type {\n",
       "        vertical-align: middle;\n",
       "    }\n",
       "\n",
       "    .dataframe tbody tr th {\n",
       "        vertical-align: top;\n",
       "    }\n",
       "\n",
       "    .dataframe thead th {\n",
       "        text-align: right;\n",
       "    }\n",
       "</style>\n",
       "<table border=\"1\" class=\"dataframe\">\n",
       "  <thead>\n",
       "    <tr style=\"text-align: right;\">\n",
       "      <th></th>\n",
       "      <th>Feature</th>\n",
       "      <th>Importance</th>\n",
       "    </tr>\n",
       "  </thead>\n",
       "  <tbody>\n",
       "    <tr>\n",
       "      <th>0</th>\n",
       "      <td>Trt_code</td>\n",
       "      <td>0.593663</td>\n",
       "    </tr>\n",
       "    <tr>\n",
       "      <th>2</th>\n",
       "      <td>Max_LAI</td>\n",
       "      <td>0.233148</td>\n",
       "    </tr>\n",
       "    <tr>\n",
       "      <th>1</th>\n",
       "      <td>Plant density plants ha-1</td>\n",
       "      <td>0.173189</td>\n",
       "    </tr>\n",
       "  </tbody>\n",
       "</table>\n",
       "</div>"
      ],
      "text/plain": [
       "                     Feature  Importance\n",
       "0                   Trt_code    0.593663\n",
       "2                    Max_LAI    0.233148\n",
       "1  Plant density plants ha-1    0.173189"
      ]
     },
     "execution_count": 16,
     "metadata": {},
     "output_type": "execute_result"
    }
   ],
   "source": [
    "# get feature importance from Random Forest model\n",
    "feature_importances = random_forest_model.feature_importances_\n",
    "features = X.columns\n",
    "\n",
    "# Create a DataFrame to display feature importances\n",
    "importance_df = pd.DataFrame({\n",
    "    'Feature': features,\n",
    "    'Importance': feature_importances\n",
    "}).sort_values(by='Importance', ascending=False)\n",
    "\n",
    "importance_df"
   ]
  },
  {
   "cell_type": "markdown",
   "metadata": {},
   "source": [
    "# 4.0 Gradient Boosting Regression\n",
    "No transformations to data"
   ]
  },
  {
   "cell_type": "code",
   "execution_count": 17,
   "metadata": {},
   "outputs": [
    {
     "name": "stdout",
     "output_type": "stream",
     "text": [
      "GRADIENT BOOSTING REGRESSION\n",
      "Training MSE: 87514.88\n",
      "Training R2: 0.98\n",
      "Test MSE: 3221642.34\n",
      "Test R2: 0.47\n",
      "Cross-Validation RMSE:\n",
      "\tScores: [1702.91830086 1351.16105587 2091.64401905 1465.55226351 1588.95907242]\n",
      "\tMean: 1640.05\n",
      "\tStd Deviation: 254.72\n"
     ]
    }
   ],
   "source": [
    "from sklearn.ensemble import GradientBoostingRegressor\n",
    "\n",
    "# define features as `X` and target variable (Grain Yield) as `y`   \n",
    "X = maize_model_data.drop(columns=['Grain Yield_15.5%mc_Kg ha-1'])\n",
    "y = maize_model_data['Grain Yield_15.5%mc_Kg ha-1']\n",
    "\n",
    "# split data into training and testing sets\n",
    "X_train, X_test, y_train, y_test = train_test_split(X, y, test_size=0.2, random_state=42)\n",
    "\n",
    "# Initialize the model\n",
    "gradient_boosting_model = GradientBoostingRegressor(random_state=42)\n",
    "\n",
    "# Train the model\n",
    "gradient_boosting_model.fit(X_train, y_train)\n",
    "\n",
    "# Calculate training MSE and R2\n",
    "y_train_pred = gradient_boosting_model.predict(X_train)\n",
    "train_mse = mean_squared_error(y_train, y_train_pred)\n",
    "train_r2 = r2_score(y_train, y_train_pred)\n",
    "\n",
    "# Calculate test MSE and R2\n",
    "y_test_pred = gradient_boosting_model.predict(X_test)\n",
    "test_mse = mean_squared_error(y_test, y_test_pred)\n",
    "test_r2 = r2_score(y_test, y_test_pred)\n",
    "\n",
    "# Perform cross-validation on the training set\n",
    "cross_val_mse = cross_val_score(gradient_boosting_model, X_train, y_train, cv=cv, scoring='neg_mean_squared_error')\n",
    "cross_val_rmse = np.sqrt(-cross_val_mse)\n",
    "\n",
    "# Display model results\n",
    "display_model_results(train_mse, train_r2, test_mse, test_r2, cross_val_rmse, model_description=\"gradient boosting regression\")\n"
   ]
  },
  {
   "cell_type": "markdown",
   "metadata": {},
   "source": [
    "## 3.1 Radom Forest (Tuned)\n",
    "Hyperparameter tuning to optimize the random forest model."
   ]
  },
  {
   "cell_type": "code",
   "execution_count": 18,
   "metadata": {},
   "outputs": [
    {
     "name": "stdout",
     "output_type": "stream",
     "text": [
      "Fitting 5 folds for each of 50 candidates, totalling 250 fits\n",
      "Best parameters found by RandomizedSearchCV:\n",
      "{'n_estimators': 200, 'min_samples_split': 10, 'min_samples_leaf': 1, 'max_features': None, 'max_depth': None} \n",
      "\n",
      "TUNED RANDOM FOREST REGRESSION\n",
      "Training MSE: 1067877.80\n",
      "Training R2: 0.70\n",
      "Test MSE: 2983862.97\n",
      "Test R2: 0.51\n",
      "Cross-Validation RMSE:\n",
      "\tScores: [1291.09791741 1335.94317209 1710.1045883  1447.85260468 1540.68706847]\n",
      "\tMean: 1465.14\n",
      "\tStd Deviation: 150.33\n"
     ]
    }
   ],
   "source": [
    "from sklearn.model_selection import RandomizedSearchCV\n",
    "from sklearn.ensemble import RandomForestRegressor\n",
    "from sklearn.metrics import mean_squared_error, r2_score\n",
    "\n",
    "# Define the parameter distribution\n",
    "param_dist = {\n",
    "    'n_estimators': [100, 200, 300],\n",
    "    'max_depth': [10, 20, 30, None],\n",
    "    'min_samples_split': [2, 5, 10],\n",
    "    'min_samples_leaf': [1, 2, 4],\n",
    "    'max_features': ['sqrt', 'log2', None]\n",
    "}\n",
    "\n",
    "# Initialize the model\n",
    "random_forest_model = RandomForestRegressor(random_state=42)\n",
    "\n",
    "# Initialize RandomizedSearchCV\n",
    "random_search = RandomizedSearchCV(estimator=random_forest_model, param_distributions=param_dist, \n",
    "                                   n_iter=50, cv=5, n_jobs=-1, scoring='neg_mean_squared_error', random_state=42, verbose=2)\n",
    "\n",
    "# Perform random search\n",
    "random_search.fit(X_train, y_train)\n",
    "\n",
    "# Print the best parameters\n",
    "print(\"Best parameters found by RandomizedSearchCV:\")\n",
    "print(random_search.best_params_, \"\\n\")\n",
    "\n",
    "# Get the best estimator\n",
    "best_rf_model = random_search.best_estimator_\n",
    "\n",
    "# Calculate training MSE and R2\n",
    "y_train_pred = best_rf_model.predict(X_train)\n",
    "train_mse = mean_squared_error(y_train, y_train_pred)\n",
    "train_r2 = r2_score(y_train, y_train_pred)\n",
    "\n",
    "# Calculate test MSE and R2\n",
    "y_test_pred = best_rf_model.predict(X_test)\n",
    "test_mse = mean_squared_error(y_test, y_test_pred)\n",
    "test_r2 = r2_score(y_test, y_test_pred)\n",
    "\n",
    "# Perform cross-validation on the training set\n",
    "cv = KFold(n_splits=5, random_state=42, shuffle=True)\n",
    "cross_val_mse = cross_val_score(best_rf_model, X_train, y_train, cv=cv, scoring='neg_mean_squared_error')\n",
    "cross_val_rmse = np.sqrt(-cross_val_mse)\n",
    "\n",
    "# Display model results\n",
    "display_model_results(train_mse, train_r2, test_mse, test_r2, cross_val_rmse, model_description=\"tuned random forest regression\")\n"
   ]
  },
  {
   "cell_type": "markdown",
   "metadata": {},
   "source": [
    "___________________________"
   ]
  },
  {
   "cell_type": "markdown",
   "metadata": {},
   "source": [
    "# Appendix\n",
    "\n",
    "\n",
    "\n",
    "| **Trt Code** | **Irr Treatment (late veg/grain filling)** |\n",
    "|--------------|-------------------|\n",
    "| 1            | 100/100           |\n",
    "| 2            | 100/50            |\n",
    "| 3            | 80/80             |\n",
    "| 4            | 80/65             |\n",
    "| 5            | 80/50             |\n",
    "| 6            | 80/40             |\n",
    "| 7            | 65/80             |\n",
    "| 8            | 65/65             |\n",
    "| 9            | 65/50             |\n",
    "| 10           | 65/40             |\n",
    "| 11           | 50/50             |\n",
    "| 12           | 40/40             |"
   ]
  }
 ],
 "metadata": {
  "kernelspec": {
   "display_name": "PandasPractice",
   "language": "python",
   "name": "python3"
  },
  "language_info": {
   "codemirror_mode": {
    "name": "ipython",
    "version": 3
   },
   "file_extension": ".py",
   "mimetype": "text/x-python",
   "name": "python",
   "nbconvert_exporter": "python",
   "pygments_lexer": "ipython3",
   "version": "3.12.4"
  }
 },
 "nbformat": 4,
 "nbformat_minor": 2
}
